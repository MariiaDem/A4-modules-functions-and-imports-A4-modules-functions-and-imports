{
  "metadata": {
    "kernelspec": {
      "name": "python",
      "display_name": "Python (Pyodide)",
      "language": "python"
    },
    "language_info": {
      "codemirror_mode": {
        "name": "ipython",
        "version": 3
      },
      "file_extension": ".py",
      "mimetype": "text/x-python",
      "name": "python",
      "nbconvert_exporter": "python",
      "pygments_lexer": "ipython3",
      "version": "3.11.4"
    }
  },
  "nbformat_minor": 5,
  "nbformat": 4,
  "cells": [
    {
      "cell_type": "code",
      "source": "import folium\n\nm = folium.Map(location=[47.800965, 13.035831])\n\nm",
      "metadata": {},
      "execution_count": 11,
      "outputs": [
        {
          "execution_count": 11,
          "output_type": "execute_result",
          "data": {
            "text/html": [
              "<div style=\"width:100%;\"><div style=\"position:relative;width:100%;height:0;padding-bottom:60%;\"><span style=\"color:#565656\">Make this Notebook Trusted to load map: File -> Trust Notebook</span><iframe srcdoc=\"&lt;!DOCTYPE html&gt;\n",
              "&lt;html&gt;\n",
              "&lt;head&gt;\n",
              "    \n",
              "    &lt;meta http-equiv=&quot;content-type&quot; content=&quot;text/html; charset=UTF-8&quot; /&gt;\n",
              "    \n",
              "        &lt;script&gt;\n",
              "            L_NO_TOUCH = false;\n",
              "            L_DISABLE_3D = false;\n",
              "        &lt;/script&gt;\n",
              "    \n",
              "    &lt;style&gt;html, body {width: 100%;height: 100%;margin: 0;padding: 0;}&lt;/style&gt;\n",
              "    &lt;style&gt;#map {position:absolute;top:0;bottom:0;right:0;left:0;}&lt;/style&gt;\n",
              "    &lt;script src=&quot;https://cdn.jsdelivr.net/npm/leaflet@1.9.3/dist/leaflet.js&quot;&gt;&lt;/script&gt;\n",
              "    &lt;script src=&quot;https://code.jquery.com/jquery-1.12.4.min.js&quot;&gt;&lt;/script&gt;\n",
              "    &lt;script src=&quot;https://cdn.jsdelivr.net/npm/bootstrap@5.2.2/dist/js/bootstrap.bundle.min.js&quot;&gt;&lt;/script&gt;\n",
              "    &lt;script src=&quot;https://cdnjs.cloudflare.com/ajax/libs/Leaflet.awesome-markers/2.0.2/leaflet.awesome-markers.js&quot;&gt;&lt;/script&gt;\n",
              "    &lt;link rel=&quot;stylesheet&quot; href=&quot;https://cdn.jsdelivr.net/npm/leaflet@1.9.3/dist/leaflet.css&quot;/&gt;\n",
              "    &lt;link rel=&quot;stylesheet&quot; href=&quot;https://cdn.jsdelivr.net/npm/bootstrap@5.2.2/dist/css/bootstrap.min.css&quot;/&gt;\n",
              "    &lt;link rel=&quot;stylesheet&quot; href=&quot;https://netdna.bootstrapcdn.com/bootstrap/3.0.0/css/bootstrap.min.css&quot;/&gt;\n",
              "    &lt;link rel=&quot;stylesheet&quot; href=&quot;https://cdn.jsdelivr.net/npm/@fortawesome/fontawesome-free@6.2.0/css/all.min.css&quot;/&gt;\n",
              "    &lt;link rel=&quot;stylesheet&quot; href=&quot;https://cdnjs.cloudflare.com/ajax/libs/Leaflet.awesome-markers/2.0.2/leaflet.awesome-markers.css&quot;/&gt;\n",
              "    &lt;link rel=&quot;stylesheet&quot; href=&quot;https://cdn.jsdelivr.net/gh/python-visualization/folium/folium/templates/leaflet.awesome.rotate.min.css&quot;/&gt;\n",
              "    \n",
              "            &lt;meta name=&quot;viewport&quot; content=&quot;width=device-width,\n",
              "                initial-scale=1.0, maximum-scale=1.0, user-scalable=no&quot; /&gt;\n",
              "            &lt;style&gt;\n",
              "                #map_66dbd5ccaf3ca51b75382026a628dcae {\n",
              "                    position: relative;\n",
              "                    width: 100.0%;\n",
              "                    height: 100.0%;\n",
              "                    left: 0.0%;\n",
              "                    top: 0.0%;\n",
              "                }\n",
              "                .leaflet-container { font-size: 1rem; }\n",
              "            &lt;/style&gt;\n",
              "        \n",
              "&lt;/head&gt;\n",
              "&lt;body&gt;\n",
              "    \n",
              "    \n",
              "            &lt;div class=&quot;folium-map&quot; id=&quot;map_66dbd5ccaf3ca51b75382026a628dcae&quot; &gt;&lt;/div&gt;\n",
              "        \n",
              "&lt;/body&gt;\n",
              "&lt;script&gt;\n",
              "    \n",
              "    \n",
              "            var map_66dbd5ccaf3ca51b75382026a628dcae = L.map(\n",
              "                &quot;map_66dbd5ccaf3ca51b75382026a628dcae&quot;,\n",
              "                {\n",
              "                    center: [47.800965, 13.035831],\n",
              "                    crs: L.CRS.EPSG3857,\n",
              "                    zoom: 10,\n",
              "                    zoomControl: true,\n",
              "                    preferCanvas: false,\n",
              "                }\n",
              "            );\n",
              "\n",
              "            \n",
              "\n",
              "        \n",
              "    \n",
              "            var tile_layer_60871bb4c8f6a32c762e607f03cb1309 = L.tileLayer(\n",
              "                &quot;https://{s}.tile.openstreetmap.org/{z}/{x}/{y}.png&quot;,\n",
              "                {&quot;attribution&quot;: &quot;Data by \\u0026copy; \\u003ca target=\\&quot;_blank\\&quot; href=\\&quot;http://openstreetmap.org\\&quot;\\u003eOpenStreetMap\\u003c/a\\u003e, under \\u003ca target=\\&quot;_blank\\&quot; href=\\&quot;http://www.openstreetmap.org/copyright\\&quot;\\u003eODbL\\u003c/a\\u003e.&quot;, &quot;detectRetina&quot;: false, &quot;maxNativeZoom&quot;: 18, &quot;maxZoom&quot;: 18, &quot;minZoom&quot;: 0, &quot;noWrap&quot;: false, &quot;opacity&quot;: 1, &quot;subdomains&quot;: &quot;abc&quot;, &quot;tms&quot;: false}\n",
              "            ).addTo(map_66dbd5ccaf3ca51b75382026a628dcae);\n",
              "        \n",
              "&lt;/script&gt;\n",
              "&lt;/html&gt;\" style=\"position:absolute;width:100%;height:100%;left:0;top:0;border:none !important;\" allowfullscreen webkitallowfullscreen mozallowfullscreen></iframe></div></div>"
            ],
            "text/plain": [
              "<folium.folium.Map at 0x1e236dabed0>"
            ]
          },
          "metadata": {}
        }
      ],
      "id": "d38f55ba"
    },
    {
      "cell_type": "code",
      "source": "import mapFunctions as mf\nimport plotFunctions as pf\nimport routingFunctions as rf\nimport pandas as pd",
      "metadata": {},
      "execution_count": 1,
      "outputs": [],
      "id": "2b9dd70d"
    },
    {
      "cell_type": "code",
      "source": "test_data = {'name': ['Calisthenic Park Salzach', 'Calisthenic Park Alpenstraße', 'Beach Volleyball Donnenbergpark',\n                      'Table tennis Donnenbergpark', 'Beach Volleyball Volksgarten', 'Kleiner Barmstein'],\n             'coordinates': [[47.806854, 13.040248], [47.798515, 13.060485], \n                             [47.763537, 13.059919], [47.762744, 13.065552],\n                             [47.802920, 13.031199], [47.814911, 13.031088]],\n             'sport_type': ['Freibad/Hallenbad', 'Freibad/Hallenbad', 'Calisthenics- und Bewegungsanlage', 'Calisthenics- und Bewegungsanlage', ' Boxen, Kickboxen, Turnen und Rhythmische Gymnastik', 'Leichtathletik, Tischtennis, Turnen und Rhythmische Gymnastik'],\n             'description': ['a magnificent outdoor swimming pool will be happy to welcome all family members', \n                             'a magnificent outdoor swimming pool will be happy to welcome all family members',\n                             'a great outdoor, free gymnastics area',\n                             'a great outdoor, free gymnastics area',\n                             'a place where you can learn different martial arts',\n                             'Indoor facility for athletics']}\ntest_data_df = pd.DataFrame(test_data)\ntest_data_df",
      "metadata": {
        "trusted": true
      },
      "execution_count": null,
      "outputs": [],
      "id": "0034a6ae"
    },
    {
      "cell_type": "code",
      "source": "centerCoord = mf.getCenterCoordinates(test_data_df['coordinates'])\ncenterCoord",
      "metadata": {
        "trusted": true
      },
      "execution_count": null,
      "outputs": [],
      "id": "011877ba"
    },
    {
      "cell_type": "code",
      "source": "mymap = mf.create_Map(centerCoord, zoom_start=11)\nmymap",
      "metadata": {
        "trusted": true
      },
      "execution_count": null,
      "outputs": [],
      "id": "463de8bd"
    },
    {
      "cell_type": "code",
      "source": "mymap = pf.add_all_points(mymap, test_data_df)\nmymap",
      "metadata": {
        "trusted": true
      },
      "execution_count": null,
      "outputs": [],
      "id": "c22fb985"
    },
    {
      "cell_type": "code",
      "source": "start_coords = rf.starting_coord_by_user()\nfinish_coords = rf.finishing_coord_by_user(test_data_df)",
      "metadata": {
        "trusted": true
      },
      "execution_count": null,
      "outputs": [],
      "id": "eeffc5b2"
    },
    {
      "cell_type": "code",
      "source": "response = rf.get_directions_response(start_coords[0],start_coords[1], finish_coords[0], finish_coords[1])\n\nprint(response.json())",
      "metadata": {
        "trusted": true
      },
      "execution_count": null,
      "outputs": [],
      "id": "ab8fb0b6"
    },
    {
      "cell_type": "code",
      "source": "pf.create_route(response, mymap)",
      "metadata": {
        "trusted": true
      },
      "execution_count": null,
      "outputs": [],
      "id": "b4496d0a"
    }
  ]
}